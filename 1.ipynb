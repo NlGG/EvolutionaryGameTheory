{
 "cells": [
  {
   "cell_type": "markdown",
   "metadata": {},
   "source": [
    "# 進化ゲーム入門"
   ]
  },
  {
   "cell_type": "markdown",
   "metadata": {},
   "source": [
    "# 1　基本"
   ]
  },
  {
   "cell_type": "markdown",
   "metadata": {},
   "source": [
    "### 1.1　進化ゲーム理論の概要"
   ]
  },
  {
   "cell_type": "markdown",
   "metadata": {},
   "source": [
    "進化ゲーム理論は合理性を仮定しない。代わりにゲームを行うプレーヤーの集団を考える。プレーヤーはいくつかの戦略からランダムに戦略を選択し、他のプレーヤーとゲームをし、行われたゲームで得られた利得が合計される。利得は適合度と解釈され、ゲームでの成功は繁殖成功をもたらす。これは自然淘汰を表している。"
   ]
  },
  {
   "cell_type": "markdown",
   "metadata": {},
   "source": [
    "（例）二つの表現型AとBを考える。費用便益分析によりAが1.1、Bが1の適応度を持つとする。しかし、Aの戦略をとる個体が多くなるとAの適応度は減少する。Aの適応度はAをとる集団数の減少関数でもある。"
   ]
  },
  {
   "cell_type": "markdown",
   "metadata": {},
   "source": [
    "二つの戦略AとBの間における頻度依存淘汰を一般的に定式化する。$x_A$をAの頻度、$x_B$をBの頻度とする。ベクトル$\\vec{x}=(x_A, x_B)$は集団の構成を表現している。$f_A, f_B$はそれぞれAとBの適応度である。"
   ]
  },
  {
   "cell_type": "markdown",
   "metadata": {},
   "source": [
    "淘汰ダイナミクスは\n",
    "$$\\dot{x_A} = x_A[f_A(\\vec{x})-\\phi]$$\n",
    "$$\\dot{x_B} = x_B[f_B(\\vec{x})-\\phi]$$\n",
    "と表すことができる。ここで$\\phi$は平均適応度を表している。"
   ]
  },
  {
   "cell_type": "markdown",
   "metadata": {},
   "source": [
    "$x_A+x_B=1$が常に成り立つので、$x_A=x, x_B=1-x$で変数xを定義する。上式は$$\\dot{x}=x(1-x)[f_A(x)-f_B(x)]$$となる。この微分方程式の平衡点はx=0, x=1と$f_A(x)=s_B(x)$を満たすすべての点$x\\in(0, 1)$で与えられる。平衡点x=0は$f_A(0)<f_B(0)$のとき安定であり、平衡点x=1は$f_A(1)>f_B(1)$のとき安定である。内部平衡点$x^*$は、関数$f_A$と$f_B$の導関数が$f'A(x^*)<f_B(x^*)$を満たせば安定である。"
   ]
  },
  {
   "cell_type": "markdown",
   "metadata": {},
   "source": [
    "### 1.2　2人ゲーム"
   ]
  },
  {
   "cell_type": "markdown",
   "metadata": {},
   "source": [
    "二つの戦略AとBに関するゲームを次の利得行列のように記述する。"
   ]
  },
  {
   "cell_type": "markdown",
   "metadata": {},
   "source": [
    "<table align=\"center\", style=\"text-align:center;\">\n",
    "  <tr>\n",
    "    <th>自分の行動, 相手の行動</th>\n",
    "    <th>行動0（active）</th>\n",
    "    <th>行動1（inactive）</th>\n",
    "  </tr>\n",
    "  <tr>\n",
    "    <th>行動0（active）</th>\n",
    "    <td>4, 4</td>\n",
    "    <td>0, 5</td>\n",
    "  </tr>\n",
    "  <tr>\n",
    "    <th>行動1（inactive）</th>\n",
    "    <td>5, 0</td>\n",
    "    <td>2, 2</td>\n",
    "  </tr>\n",
    "</table>"
   ]
  },
  {
   "cell_type": "markdown",
   "metadata": {},
   "source": [
    "#### 進化ゲーム理論に関する重大なアイデア:プレーヤーAとBで構成される集団を考え、利得と適応度を同一視する。\n",
    "$x_A$をAの頻度、$x_B$をBの頻度とすると、AとBに関する期待利得はそれぞれ次式のように与えられる。$$f_A=ax_A+bx_B$$\n",
    "$$f_B=cx_A+dx_B$$"
   ]
  },
  {
   "cell_type": "markdown",
   "metadata": {},
   "source": [
    "これらの線形適応度関数を上述した微分方程式に代入すると、$x=x_A$と置けば、$$\\dot{x}=x(1-x)[(a-b-c+d)x+b-d]$$が得られる。この非線形方程式の解を利得行列の成分の大きさで分類する。"
   ]
  },
  {
   "cell_type": "code",
   "execution_count": null,
   "metadata": {
    "collapsed": false
   },
   "outputs": [],
   "source": [
    "import numpy as np\n",
    "from scipy.integrate import odeint\n",
    "import matplotlib.pyplot as plt\n",
    "from mpl_toolkits.mplot3d import Axes3D\n",
    "\n",
    "\n",
    "def func(v, t, p, r, b):\n",
    "    return [-p*v[0]+p*v[1], -v[0]*v[2]+r*v[0]-v[1], v[0]*v[1]-b*v[2]]\n",
    "\n",
    "p = 10\n",
    "r = 28\n",
    "b = 8/3\n",
    "v0 = [0.1, 0.1, 0.1]\n",
    "t = np.arange(0, 100, 0.01)\n",
    "\n",
    "v = odeint(func, v0, t, args=(p, r, b))\n",
    "\n",
    "fig = plt.figure()\n",
    "ax = fig.gca(projection='3d')\n",
    "ax.plot(v[:, 0], v[:, 1], v[:, 2])\n",
    "# plt.show()"
   ]
  },
  {
   "cell_type": "markdown",
   "metadata": {},
   "source": [
    "### 1.3　Nash均衡"
   ]
  },
  {
   "cell_type": "code",
   "execution_count": null,
   "metadata": {
    "collapsed": true
   },
   "outputs": [],
   "source": []
  },
  {
   "cell_type": "markdown",
   "metadata": {},
   "source": [
    "### 1.4　進化的に安定な戦略"
   ]
  },
  {
   "cell_type": "markdown",
   "metadata": {},
   "source": [
    "## 2　レプリケータダイナミクス"
   ]
  },
  {
   "cell_type": "markdown",
   "metadata": {},
   "source": [
    "## 3　Lotka-Volterra方程式"
   ]
  },
  {
   "cell_type": "markdown",
   "metadata": {},
   "source": [
    "### 3.1　捕食者と被食者"
   ]
  },
  {
   "cell_type": "markdown",
   "metadata": {},
   "source": [
    "第一次世界大戦でアドリア海での漁業活動が中断を余儀なくされた。戦後、捕食魚（サメなど）の個体数が増加した。「なぜ戦争はサメに有利に働いたのか」という疑問がVolterraにより提出された。"
   ]
  },
  {
   "cell_type": "markdown",
   "metadata": {},
   "source": [
    "[Volterraの方程式]</p>xとyをそれぞれ被食者と捕食者の個体数とする。被食者はaxという速度で繁殖し、速度bxyで捕食者に食べられる。捕食者はcyで死に、速度dxyで繁殖する。次の方程式系が得られる。$$\\dot{x}=x(a-by)$$ $$\\dot{y}=y(-c+dx)$$"
   ]
  },
  {
   "cell_type": "markdown",
   "metadata": {},
   "source": [
    "捕食者が存在しなければ(y=0)、被食者の個体数は$$x(t)=x(0)e^{at}$$で表されるように指数的に増殖する。捕食者がいなければ(x=0)、捕食者の個体数は指数的に減少する。$$y(t)=y(0)e^{-at}$$"
   ]
  },
  {
   "cell_type": "markdown",
   "metadata": {},
   "source": [
    "点(x, y)=(0, 0)は方程式系の鞍点である。内部平衡点は$$x~*=c/d かつ y^*=a/b$$で与えられる。線形安定解析によれば、この平衡点は中立安定である。平衡点は無限個の周期軌道で囲まれている。被食者と捕食者の個体数は決して止まることなく振動し続ける。振動周期は$2\\pi/\\sqrt{ac}$であり、振幅は初期条件に依存する。xとyの振動の時間平均は平衡点の値$x~:とy^*で与えられる。中立的な振動は特殊な現象であり、微分方程式に微小な雪道を加えると中立安定性は破壊される。"
   ]
  },
  {
   "cell_type": "code",
   "execution_count": null,
   "metadata": {
    "collapsed": true
   },
   "outputs": [],
   "source": []
  }
 ],
 "metadata": {
  "kernelspec": {
   "display_name": "Python 3",
   "language": "python",
   "name": "python3"
  },
  "language_info": {
   "codemirror_mode": {
    "name": "ipython",
    "version": 3
   },
   "file_extension": ".py",
   "mimetype": "text/x-python",
   "name": "python",
   "nbconvert_exporter": "python",
   "pygments_lexer": "ipython3",
   "version": "3.5.1"
  }
 },
 "nbformat": 4,
 "nbformat_minor": 0
}
